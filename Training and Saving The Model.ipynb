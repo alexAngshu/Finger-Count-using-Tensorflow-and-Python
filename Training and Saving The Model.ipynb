{
 "cells": [
  {
   "cell_type": "markdown",
   "metadata": {},
   "source": [
    "## Building the Model"
   ]
  },
  {
   "cell_type": "code",
   "execution_count": null,
   "metadata": {},
   "outputs": [],
   "source": [
    "import tensorflow as tf"
   ]
  },
  {
   "cell_type": "code",
   "execution_count": null,
   "metadata": {},
   "outputs": [],
   "source": [
    "from keras import layers, optimizers, metrics, activations, models"
   ]
  },
  {
   "cell_type": "code",
   "execution_count": null,
   "metadata": {},
   "outputs": [],
   "source": [
    "m = models.Sequential()\n",
    "m.add(layers.Conv2D(16, (3,3), input_shape=(50,50,1), activation=tf.nn.relu))\n",
    "m.add(layers.MaxPool2D())\n",
    "m.add(layers.Conv2D(32, (3,3), activation=tf.nn.relu))\n",
    "m.add(layers.MaxPool2D())\n",
    "m.add(layers.Flatten())\n",
    "m.add(layers.Dense(1024, activation=tf.nn.relu))\n",
    "m.add(layers.Dropout(0.1))\n",
    "m.add(layers.Dense(1024, activation=tf.nn.relu))\n",
    "m.add(layers.Dropout(0.3))\n",
    "m.add(layers.Dense(6, activation=tf.nn.softmax))\n",
    "\n",
    "m.summary()"
   ]
  },
  {
   "cell_type": "code",
   "execution_count": null,
   "metadata": {},
   "outputs": [],
   "source": [
    "m.compile(optimizer=optimizers.RMSprop(), loss='sparse_categorical_crossentropy', metrics=['acc'])"
   ]
  },
  {
   "cell_type": "markdown",
   "metadata": {},
   "source": [
    "## Loading the Train Data"
   ]
  },
  {
   "cell_type": "code",
   "execution_count": null,
   "metadata": {},
   "outputs": [],
   "source": [
    "import os, sys\n",
    "import cv2\n",
    "import numpy as np\n",
    "\n",
    "TRAIN_PATH = 'path/to/train/dir/'"
   ]
  },
  {
   "cell_type": "code",
   "execution_count": null,
   "metadata": {},
   "outputs": [],
   "source": [
    "FILES = os.listdir(TRAIN_PATH)"
   ]
  },
  {
   "cell_type": "code",
   "execution_count": null,
   "metadata": {},
   "outputs": [],
   "source": [
    "Y_train = []\n",
    "for file in FILES:\n",
    "    CLASS = int(file.split('.')[0][-2])\n",
    "    Y_train.append(CLASS)"
   ]
  },
  {
   "cell_type": "code",
   "execution_count": null,
   "metadata": {},
   "outputs": [],
   "source": [
    "X_train = []\n",
    "for i in range(len(FILES)):\n",
    "    img = cv2.imread(os.path.join(TRAIN_PATH, FILES[i]), 0)\n",
    "    img = cv2.resize(img, (50,50))\n",
    "    img = img/255.0\n",
    "    X_train.append(img.reshape(50,50,1))"
   ]
  },
  {
   "cell_type": "markdown",
   "metadata": {},
   "source": [
    "## Fitting the model"
   ]
  },
  {
   "cell_type": "code",
   "execution_count": null,
   "metadata": {},
   "outputs": [],
   "source": [
    "X_train = np.array(X_train).reshape(len(X_train), 50, 50, 1)\n",
    "Y_train = np.array(Y_train).reshape(len(Y_train), 1)"
   ]
  },
  {
   "cell_type": "code",
   "execution_count": null,
   "metadata": {},
   "outputs": [],
   "source": [
    "m.fit(X_train, Y_train, epochs=1)"
   ]
  },
  {
   "cell_type": "markdown",
   "metadata": {},
   "source": [
    "## Loading Test Data and Validating The Model"
   ]
  },
  {
   "cell_type": "code",
   "execution_count": null,
   "metadata": {},
   "outputs": [],
   "source": [
    "TEST_PATH = 'Path/to/test/dir/'\n",
    "FILES = os.listdir(TEST_PATH)\n",
    "y_test = []\n",
    "for file in FILES:\n",
    "    CLASS = int(file.split('.')[0][-2])\n",
    "    y_test.append(CLASS)\n",
    "    \n",
    "x_test = []\n",
    "for i in range(len(FILES)):\n",
    "    img = cv2.imread(os.path.join(TEST_PATH, FILES[i]), 0)\n",
    "    img = cv2.resize(img, (50,50))\n",
    "    img = img/255.0\n",
    "    x_test.append(img.reshape(50,50,1))"
   ]
  },
  {
   "cell_type": "code",
   "execution_count": null,
   "metadata": {},
   "outputs": [],
   "source": [
    "x_test = np.array(x_test).reshape(len(x_test), 50, 50, 1)\n",
    "y_test = np.array(y_test).reshape(len(y_test), 1)"
   ]
  },
  {
   "cell_type": "code",
   "execution_count": null,
   "metadata": {},
   "outputs": [],
   "source": [
    "m.evaluate(x_test, y_test)"
   ]
  },
  {
   "cell_type": "markdown",
   "metadata": {},
   "source": [
    "## Save The Model"
   ]
  },
  {
   "cell_type": "code",
   "execution_count": null,
   "metadata": {},
   "outputs": [],
   "source": [
    "m.save('finger-count.h5')"
   ]
  }
 ],
 "metadata": {
  "kernelspec": {
   "display_name": "Python 3",
   "language": "python",
   "name": "python3"
  },
  "language_info": {
   "codemirror_mode": {
    "name": "ipython",
    "version": 3
   },
   "file_extension": ".py",
   "mimetype": "text/x-python",
   "name": "python",
   "nbconvert_exporter": "python",
   "pygments_lexer": "ipython3",
   "version": "3.6.7"
  }
 },
 "nbformat": 4,
 "nbformat_minor": 2
}
