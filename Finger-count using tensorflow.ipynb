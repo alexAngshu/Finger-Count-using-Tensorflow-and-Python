{
 "cells": [
  {
   "cell_type": "code",
   "execution_count": null,
   "metadata": {},
   "outputs": [],
   "source": [
    "import tensorflow as tf\n",
    "import numpy as np"
   ]
  },
  {
   "cell_type": "code",
   "execution_count": null,
   "metadata": {},
   "outputs": [],
   "source": [
    "m = tf.keras.models.load_model('finger-count.h5')"
   ]
  },
  {
   "cell_type": "code",
   "execution_count": null,
   "metadata": {},
   "outputs": [],
   "source": [
    "import cv2"
   ]
  },
  {
   "cell_type": "code",
   "execution_count": null,
   "metadata": {},
   "outputs": [],
   "source": [
    "cap = cv2.VideoCapture(0)\n",
    "while True:\n",
    "    _, frame = cap.read()\n",
    "    hand = frame[100:300, 100:300]\n",
    "    \n",
    "    frame = cv2.putText(frame, \n",
    "                        \"PUT YOUR HANDS INSIDE THE RECTANGLE\", \n",
    "                        (50,50), \n",
    "                        cv2.FONT_HERSHEY_COMPLEX, \n",
    "                        0.7, \n",
    "                        (255,255,255) )\n",
    "    frame = cv2.rectangle(frame, (100,100), (300,300), (0,255,0), 3)\n",
    "    \n",
    "    cv2.imshow('hand',hand)\n",
    "    \n",
    "    hand = cv2.resize(cv2.cvtColor(hand, cv2.COLOR_BGR2GRAY),(50,50))\n",
    "    hand = hand/255.0\n",
    "    \n",
    "    op = np.argmax(m.predict(hand.reshape(1,50,50,1)))\n",
    "    \n",
    "    frame = cv2.putText(frame,\n",
    "                        \"It's \"+str(op), \n",
    "                        (100, 100),\n",
    "                        cv2.FONT_HERSHEY_SIMPLEX,\n",
    "                        1,\n",
    "                        (0,0,255),\n",
    "                        2)\n",
    "    \n",
    "    cv2.imshow('INPUT',frame)\n",
    "    \n",
    "    if cv2.waitKey(1) & 0xFF == ord('q'):\n",
    "        break\n",
    "cap.release()\n",
    "cv2.destroyAllWindows()"
   ]
  },
  {
   "cell_type": "code",
   "execution_count": null,
   "metadata": {},
   "outputs": [],
   "source": []
  }
 ],
 "metadata": {
  "kernelspec": {
   "display_name": "Python 3",
   "language": "python",
   "name": "python3"
  },
  "language_info": {
   "codemirror_mode": {
    "name": "ipython",
    "version": 3
   },
   "file_extension": ".py",
   "mimetype": "text/x-python",
   "name": "python",
   "nbconvert_exporter": "python",
   "pygments_lexer": "ipython3",
   "version": "3.6.7"
  }
 },
 "nbformat": 4,
 "nbformat_minor": 2
}
